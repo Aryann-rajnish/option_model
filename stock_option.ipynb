{
 "cells": [
  {
   "cell_type": "code",
   "execution_count": 7,
   "metadata": {},
   "outputs": [],
   "source": [
    "import math\n",
    "from stock_volatility import stock_vol"
   ]
  },
  {
   "cell_type": "code",
   "execution_count": 10,
   "metadata": {},
   "outputs": [],
   "source": [
    "class stock_options():\n",
    "    def __init__(self, S0, K, r, T, N, prm):\n",
    "        self.s0 = s0 # stock price\n",
    "        self.k = k #strike price\n",
    "        self.r = r #risk free intereset rate\n",
    "        self.T = T # time per year\n",
    "        self.N = N # no of iteration\n",
    "        self.tk = prm.get('tk', None) # ticker label\n",
    "        self.start = prm.get('start', None) # start date\n",
    "        self.end = prm.get('end', None) #end date\n",
    "        self.div = prm.get('div', 0) #dividend\n",
    "        self.is_calc = prm.get('is_calc', False)\n",
    "        self.use_garch = prm.get('use_garch', False)\n",
    "        self.vol = stock_vol(self.tk, self.start, self.end) # volatility\n",
    "        if self.is_calc:\n",
    "            if self.use_garch:\n",
    "                self.sigma = self.vol.garch_sigma()\n",
    "            else:\n",
    "                self.sigma = self.vol.mean_sigma()\n",
    "        else:\n",
    "             self.sigma = prm.get('sigma', 0)\n",
    "        self.is_call = prm.get('is_call', True)\n",
    "        self.eu_option = prm.get('eu_option', True)\n",
    "        self.dt = T/float(N)\n",
    "        self.df = math.exp(-(r-self.div)*self.dt)"
   ]
  },
  {
   "cell_type": "code",
   "execution_count": null,
   "metadata": {},
   "outputs": [],
   "source": []
  }
 ],
 "metadata": {
  "kernelspec": {
   "display_name": "Python 3",
   "language": "python",
   "name": "python3"
  },
  "language_info": {
   "codemirror_mode": {
    "name": "ipython",
    "version": 3
   },
   "file_extension": ".py",
   "mimetype": "text/x-python",
   "name": "python",
   "nbconvert_exporter": "python",
   "pygments_lexer": "ipython3",
   "version": "3.6.5"
  }
 },
 "nbformat": 4,
 "nbformat_minor": 2
}
