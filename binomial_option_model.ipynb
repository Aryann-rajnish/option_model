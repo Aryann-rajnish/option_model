{
 "cells": [
  {
   "cell_type": "code",
   "execution_count": 4,
   "metadata": {},
   "outputs": [],
   "source": [
    "import math\n",
    "import numpy as np"
   ]
  },
  {
   "cell_type": "code",
   "execution_count": 5,
   "metadata": {},
   "outputs": [],
   "source": [
    "def binomial_model(N,S0,u,r,k):\n",
    "    \n",
    "    d = 1 / u\n",
    "    p = (1 + r - d) / (u - d)\n",
    "    q = 1 - p\n",
    "    # stock price tree\n",
    "    stock = np.zeros([N + 1, N + 1])\n",
    "    for i in range(N + 1):\n",
    "        for j in range(i + 1):\n",
    "            stock[j, i] = S0 * (u ** (i - j)) * (d ** j)\n",
    "            \n",
    "    # Generate option prices recursively\n",
    "    option = np.zeros([N + 1, N + 1])\n",
    "    option[:, N] = np.maximum(np.zeros(N + 1), (stock[:, N] - K))\n",
    "    for i in range(N - 1, -1, -1):\n",
    "        for j in range(0, i + 1):\n",
    "            option[j, i] = (\n",
    "                1 / (1 + r) * (p * option[j, i + 1] + q * option[j + 1, i + 1])\n",
    "            )\n",
    "    return option\n",
    "    "
   ]
  },
  {
   "cell_type": "code",
   "execution_count": 11,
   "metadata": {},
   "outputs": [
    {
     "name": "stdout",
     "output_type": "stream",
     "text": [
      "Calculating example option price:\n",
      "[[  2.4576   5.5296  12.288   26.88    57.6    120.    ]\n",
      " [  0.       0.6144   1.536    3.84     9.6     24.    ]\n",
      " [  0.       0.       0.       0.       0.       0.    ]\n",
      " [  0.       0.       0.       0.       0.       0.    ]\n",
      " [  0.       0.       0.       0.       0.       0.    ]\n",
      " [  0.       0.       0.       0.       0.       0.    ]]\n"
     ]
    }
   ],
   "source": [
    "if __name__ == \"__main__\":\n",
    "    print(\"Calculating example option price:\")\n",
    "    op_price = binomial_model(5, 4, 2, 0.25, 8)\n",
    "    print(op_price)"
   ]
  },
  {
   "cell_type": "code",
   "execution_count": null,
   "metadata": {},
   "outputs": [],
   "source": []
  }
 ],
 "metadata": {
  "kernelspec": {
   "display_name": "Python 3",
   "language": "python",
   "name": "python3"
  },
  "language_info": {
   "codemirror_mode": {
    "name": "ipython",
    "version": 3
   },
   "file_extension": ".py",
   "mimetype": "text/x-python",
   "name": "python",
   "nbconvert_exporter": "python",
   "pygments_lexer": "ipython3",
   "version": "3.6.5"
  }
 },
 "nbformat": 4,
 "nbformat_minor": 2
}
