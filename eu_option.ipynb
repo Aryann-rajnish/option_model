{
 "cells": [
  {
   "cell_type": "code",
   "execution_count": 6,
   "metadata": {},
   "outputs": [],
   "source": [
    "import numpy as np\n",
    "from stock_option import stock_options\n",
    "import math\n",
    "\n",
    "\n",
    "class euro_option(stock_options):\n",
    "\t'''\n",
    "\tcalculate required preliminary parameters:\n",
    "\tu = factor change of upstate\n",
    "\td = factor change of downstate\n",
    "\tqu = risk free upstate probability\n",
    "\tqd = risk free downstate probability\n",
    "\tM = number of nodes\n",
    "\t'''\n",
    "\tdef __int_prms__(self):\n",
    "\t\tself.M = self.N + 1 \n",
    "\t\tself.u = math.exp(self.sigma*math.sqrt(self.dt))\n",
    "\t\tself.d = 1./self.u\n",
    "\t\tself.qu = (math.exp((self.r-self.div)*self.dt)-self.d)/(self.u-self.d)\n",
    "\t\tself.qd = 1-self.qu\n",
    "\t\t\n",
    "\tdef stocktree(self):\n",
    "\t\tstocktree = np.zeros([self.M, self.M])\n",
    "\t\tfor i in range(self.M):\n",
    "\t\t\tfor j in range(self.M):\n",
    "\t\t\t\tstocktree[j, i] = self.S0*(self.u**(i-j))*(self.d**j)\n",
    "\t\treturn stocktree\n",
    "\n",
    "\tdef option_price(self, stocktree):\n",
    "\t\toption = np.zeros([self.M, self.M])\n",
    "\t\tif self.is_call:\n",
    "\t\t\toption[:, self.M-1] = np.maximum(np.zeros(self.M), (stocktree[:, self.N] - self.K))\n",
    "\t\telse:\n",
    "\t\t\toption[:, self.M-1] = np.maximum(np.zeros(self.M), (self.K - stocktree[:, self.N]))\n",
    "\t\treturn option\n",
    "\n",
    "\tdef optpricetree(self, option):\n",
    "\t\tfor i in np.arange(self.M-2, -1, -1):\n",
    "\t\t\tfor j in range(0, i+1):\n",
    "\t\t\t\toption[j, i] = math.exp(-self.r*self.dt) * (self.qu*option[j, i+1]+self.qd*option[j+1, i+1])\n",
    "\t\treturn option\n",
    "\n",
    "\tdef begin_tree(self):\n",
    "\t\tstocktree = self.stocktree()\n",
    "\t\tpayoff = self.option_price(stocktree)\n",
    "\t\treturn self.optpricetree(payoff)\n",
    "\n",
    "\tdef price(self):\n",
    "\t\tself.__int_prms__()\n",
    "\t\tself.stocktree()\n",
    "\t\tpayoff = self.begin_tree()\n",
    "\t\treturn payoff[0, 0]"
   ]
  },
  {
   "cell_type": "code",
   "execution_count": null,
   "metadata": {},
   "outputs": [],
   "source": []
  }
 ],
 "metadata": {
  "kernelspec": {
   "display_name": "Python 3",
   "language": "python",
   "name": "python3"
  },
  "language_info": {
   "codemirror_mode": {
    "name": "ipython",
    "version": 3
   },
   "file_extension": ".py",
   "mimetype": "text/x-python",
   "name": "python",
   "nbconvert_exporter": "python",
   "pygments_lexer": "ipython3",
   "version": "3.6.5"
  }
 },
 "nbformat": 4,
 "nbformat_minor": 2
}
