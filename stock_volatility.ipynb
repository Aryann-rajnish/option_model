{
 "cells": [
  {
   "cell_type": "code",
   "execution_count": 6,
   "metadata": {},
   "outputs": [],
   "source": [
    "import numpy as np\n",
    "import pandas as pd\n",
    "import pandas_datareader.data as pdr\n",
    "import fix_yahoo_finance as yf\n",
    "import arch\n",
    "import matplotlib.pyplot as plt\n",
    "from statsmodels.graphics.tsaplots import plot_acf, plot_pacf"
   ]
  },
  {
   "cell_type": "code",
   "execution_count": 7,
   "metadata": {},
   "outputs": [],
   "source": [
    "yf.pdr_override()"
   ]
  },
  {
   "cell_type": "code",
   "execution_count": 8,
   "metadata": {},
   "outputs": [],
   "source": [
    "class stock_vol:\n",
    "\n",
    "\tdef __init__(self, tk, start, end):\n",
    "\t\tself.tk = tk\n",
    "\t\tself.start = start\n",
    "\t\tself.end = end\n",
    "\t\tall_data = pdr.get_data_yahoo(self.tk, start=self.start, end=self.end)\n",
    "\t\tself.stock_data = pd.DataFrame(all_data['Adj Close'], columns=[\"Adj Close\"])\n",
    "\t\tself.stock_data[\"log\"] = np.log(self.stock_data)-np.log(self.stock_data.shift(1))\n",
    "\n",
    "\tdef mean_sigma(self):\n",
    "\t\tst = self.stock_data[\"log\"].dropna().ewm(span=252).std()\n",
    "\t\tsigma = st.iloc[-1]\n",
    "\t\treturn sigma\n",
    "\n",
    "\tdef garch_sigma(self):\n",
    "\t\tmodel = arch.arch_model(self.stock_data[\"log\"].dropna(), mean='Zero', vol='GARCH', p=1, q=1)\n",
    "\t\tmodel_fit = model.fit()\n",
    "\t\tforecast = model_fit.forecast(horizon=1)\n",
    "\t\tvar = forecast.variance.iloc[-1]\n",
    "\t\tsigma = float(np.sqrt(var))\n",
    "\t\treturn sigma"
   ]
  },
  {
   "cell_type": "code",
   "execution_count": 9,
   "metadata": {},
   "outputs": [
    {
     "name": "stdout",
     "output_type": "stream",
     "text": [
      "[*********************100%***********************]  1 of 1 downloaded\n",
      "Date\n",
      "2016-01-04    0.000855\n",
      "2016-01-05   -0.025379\n",
      "2016-01-06   -0.019764\n",
      "2016-01-07   -0.043121\n",
      "2016-01-08    0.005274\n",
      "2016-01-11    0.016062\n",
      "2016-01-12    0.014409\n",
      "2016-01-13   -0.026046\n",
      "2016-01-14    0.021635\n",
      "2016-01-15   -0.024308\n",
      "2016-01-19   -0.004851\n",
      "2016-01-20    0.001344\n",
      "2016-01-21   -0.005075\n",
      "2016-01-22    0.051802\n",
      "2016-01-25   -0.019716\n",
      "2016-01-26    0.005516\n",
      "2016-01-27   -0.067965\n",
      "2016-01-28    0.007146\n",
      "2016-01-29    0.033958\n",
      "2016-02-01   -0.009393\n",
      "2016-02-02   -0.020429\n",
      "2016-02-03    0.019599\n",
      "2016-02-04    0.008003\n",
      "2016-02-05   -0.027071\n",
      "2016-02-08    0.010475\n",
      "2016-02-09   -0.000210\n",
      "2016-02-10   -0.007609\n",
      "2016-02-11   -0.006065\n",
      "2016-02-12    0.003090\n",
      "2016-02-16    0.027804\n",
      "2016-02-17    0.015199\n",
      "2016-02-18   -0.019138\n",
      "2016-02-19   -0.002288\n",
      "2016-02-22    0.008708\n",
      "2016-02-23   -0.022864\n",
      "2016-02-24    0.014781\n",
      "2016-02-25    0.006844\n",
      "2016-02-26    0.001549\n",
      "2016-02-29   -0.002273\n",
      "Name: log, dtype: float64\n"
     ]
    },
    {
     "data": {
      "image/png": "[encoded data removed]",
      "text/plain": [
       "<Figure size 432x288 with 1 Axes>"
      ]
     },
     "metadata": {},
     "output_type": "display_data"
    }
   ],
   "source": [
    "if __name__ == \"__main__\":\n",
    "\tvol = stock_vol(\"AAPL\", start=\"2016-01-01\", end=\"2016-03-01\")\n",
    "\ttest = vol.stock_data[\"log\"].dropna()\n",
    "\tprint(test)\n",
    "\tfig = plot_acf(test)\n",
    "\tplt.show()"
   ]
  },
  {
   "cell_type": "code",
   "execution_count": null,
   "metadata": {},
   "outputs": [],
   "source": []
  }
 ],
 "metadata": {
  "kernelspec": {
   "display_name": "Python 3",
   "language": "python",
   "name": "python3"
  },
  "language_info": {
   "codemirror_mode": {
    "name": "ipython",
    "version": 3
   },
   "file_extension": ".py",
   "mimetype": "text/x-python",
   "name": "python",
   "nbconvert_exporter": "python",
   "pygments_lexer": "ipython3",
   "version": "3.6.5"
  }
 },
 "nbformat": 4,
 "nbformat_minor": 2
}
